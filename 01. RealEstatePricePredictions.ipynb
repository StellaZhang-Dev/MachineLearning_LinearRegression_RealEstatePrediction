{
 "cells": [
  {
   "cell_type": "markdown",
   "metadata": {},
   "source": [
    "# Linear Regression: A Core Tool in Predictive Modeling\n",
    "\n",
    "In modern data science, the terminology used can vary depending on the context. When talking to investors, the broader term Artificial Intelligence (AI) often attracts attention. However, as we narrow down into more specialized fields like Machine Learning (ML), it becomes crucial when seeking talent with specific expertise. Ultimately, in many practical machine learning applications, one of the most frequently applied methods is linear regression, especially for predictive tasks.\n",
    "\n",
    "Linear regression is fundamental in tasks where we need to predict continuous numerical values, given a set of input features. While it might appear simple compared to more advanced techniques like neural networks, linear regression is both interpretable and powerful in the right settings."
   ]
  },
  {
   "cell_type": "markdown",
   "metadata": {},
   "source": [
    "## Types of Machine Learning and Their Applications\n",
    "\n",
    "Before we delve into the details of linear regression, it’s essential to outline the broader categories of machine learning, as this provides context for where regression fits in.\n",
    "\n",
    "### Supervised Learning\n",
    "\n",
    "In supervised learning, the model is trained on labeled data, where both inputs and the corresponding outputs are known. The goal is to build a model that can predict the output for unseen inputs. For example, if we have data on apartment sales that include features like apartment size and the number of floors, we can use this data to build a model to predict future apartment prices.\n",
    "\n",
    "Supervised learning can take two main forms:\n",
    "\n",
    "- **Classification**: The goal is to assign a label to each input, such as determining if an image contains a dog, cat, or parrot.\n",
    "\n",
    "- **Regression**: The goal is to predict a continuous value, such as house prices, based on historical data of features like square footage and location.\n",
    "\n",
    "### Unsupervised Learning\n",
    "\n",
    "Unsupervised learning deals with data that does not have labeled outputs. Instead, the model’s goal is to identify hidden patterns or structures. For instance, a video streaming service might group users based on their viewing habits, identifying clusters of users with similar tastes without predefined labels.\n",
    "\n",
    "### Reinforcement Learning\n",
    "\n",
    "In reinforcement learning, the focus is on training agents to make decisions that maximize some cumulative reward. The agent interacts with an environment and learns from the feedback it receives after each action. A well-known example is AlphaGo, a system trained using reinforcement learning to master the game of Go, surpassing human champions."
   ]
  },
  {
   "cell_type": "markdown",
   "metadata": {},
   "source": [
    "## Why Linear Regression?\n",
    "\n",
    "Linear regression specifically falls under the umbrella of supervised learning, where the goal is to predict a continuous outcome based on input features. This method is particularly useful when the relationship between inputs and outputs can be approximated by a linear function.\n",
    "\n",
    "In regression tasks, each feature contributes to the final predicted value by being multiplied by a coefficient. The challenge is to find the optimal coefficients that minimize the prediction error when compared to the actual data.\n",
    "\n",
    "### Key Terminology\n",
    "\n",
    "- **Features (Inputs)**: These are the variables that influence the predicted outcome. In a cabin pricing model, examples include cabin size, distance to water, and number of bathrooms.\n",
    "\n",
    "- **Response (Output)**: This is the value that the model aims to predict, such as the cabin price.\n"
   ]
  },
  {
   "cell_type": "markdown",
   "metadata": {},
   "source": [
    "## Understanding the Linear Regression Formula\n",
    "\n",
    "In linear regression, the prediction is a weighted sum of the input features. For example, the price of a cabin can be predicted using a formula like:\n",
    "\n",
    "$$ \\text{price} = c_1 \\times \\text{feature}_1 + c_2 \\times \\text{feature}_2 + c_3 \\times \\text{feature}_3 + \\dots + \\text{intercept} $$\n",
    "\n",
    "Where:\n",
    "\n",
    "- **c1, c2, c3**, ... are the coefficients that represent how much each feature contributes to the price.\n",
    "\n",
    "- The **intercept** adjusts the prediction by adding a constant, irrespective of the feature values."
   ]
  },
  {
   "cell_type": "markdown",
   "metadata": {},
   "source": [
    "## Predicting Cabin Prices: A Practical Example\n",
    "\n",
    "Let’s walk through a practical example where we predict the price of a cabin based on its features. We will use linear regression to understand how factors like cabin size and distance to water influence the price."
   ]
  },
  {
   "cell_type": "code",
   "execution_count": 1,
   "metadata": {},
   "outputs": [
    {
     "name": "stdout",
     "output_type": "stream",
     "text": [
      "258250\n"
     ]
    }
   ],
   "source": [
    "# input values for one mökkis: size, size of sauna, distance to water, number of indoor bathrooms, \n",
    "# proximity of neighbours\n",
    "\n",
    "x = [66, 5, 15, 2, 500]\n",
    "c = [3000, 200 , -50, 5000, 100]     # coefficient values\n",
    "\n",
    "# Calculating the predicted price\n",
    "prediction = c[0]*x[0] + c[1]*x[1] + c[2]*x[2] + c[3]*x[3] + c[4]*x[4]\n",
    "\n",
    "print(prediction)"
   ]
  },
  {
   "cell_type": "markdown",
   "metadata": {},
   "source": [
    "In this case, the predicted price of a 66 sqm cabin with the given features is €258,250. This model assumes a linear relationship between the features and the cabin price."
   ]
  },
  {
   "cell_type": "markdown",
   "metadata": {},
   "source": [
    "## Scaling the Prediction to Multiple Cabins\n",
    "\n",
    "While the above example predicts the price for a single cabin, we can extend the model to handle multiple properties at once. Here’s how the same linear regression model can be applied to predict prices for several cabins:"
   ]
  },
  {
   "cell_type": "markdown",
   "metadata": {},
   "source": [
    "Edit the following program so that it can process multiple cabins that may be described by any number of details (like five below), at the same time. You can assume that each of the lists contained in the list x and the coefficients c contain the same number of elements."
   ]
  },
  {
   "cell_type": "code",
   "execution_count": 2,
   "metadata": {},
   "outputs": [
    {
     "name": "stdout",
     "output_type": "stream",
     "text": [
      "258250\n",
      "76100\n",
      "492750\n"
     ]
    }
   ],
   "source": [
    "# input values for three mökkis: size, size of sauna, distance to water, number of indoor bathrooms, \n",
    "# proximity of neighbors\n",
    "X = [[66, 5, 15, 2, 500], \n",
    "     [21, 3, 50, 1, 100], \n",
    "     [120, 15, 5, 2, 1200]]\n",
    "c = [3000, 200, -50, 5000, 100]    # coefficient values\n",
    "\n",
    "def predict(X, c):\n",
    "    for cabin in X:\n",
    "        price = sum([c[i] * cabin[i] for i in range(len(c))])           \n",
    "        print(price)\n",
    "\n",
    "predict(X, c)"
   ]
  },
  {
   "cell_type": "markdown",
   "metadata": {},
   "source": [
    "## Leveraging NumPy for Efficient Computations\n",
    "\n",
    "When working with larger datasets, efficiency becomes a concern. To optimize our linear regression computations, we can use the NumPy library, which simplifies matrix operations and improves performance."
   ]
  },
  {
   "cell_type": "code",
   "execution_count": 3,
   "metadata": {},
   "outputs": [
    {
     "name": "stdout",
     "output_type": "stream",
     "text": [
      "258250\n"
     ]
    }
   ],
   "source": [
    "import numpy as np\n",
    "\n",
    "# Features and coefficients as NumPy arrays\n",
    "x = np.array([66, 5, 15, 2, 500])\n",
    "c = np.array([3000, 200 , -50, 5000, 100])\n",
    "\n",
    "# Compute the predicted price using the dot product\n",
    "print(x @ c)\n"
   ]
  },
  {
   "cell_type": "markdown",
   "metadata": {},
   "source": [
    "This method uses the dot product to calculate the price. NumPy’s `@` operator is equivalent to `np.dot()`, which is a common operation in linear algebra."
   ]
  },
  {
   "cell_type": "markdown",
   "metadata": {},
   "source": [
    "To handle multiple cabins, we can extend this approach:"
   ]
  },
  {
   "cell_type": "code",
   "execution_count": 4,
   "metadata": {},
   "outputs": [
    {
     "name": "stdout",
     "output_type": "stream",
     "text": [
      "[258250  76100]\n"
     ]
    }
   ],
   "source": [
    "import numpy as np\n",
    "\n",
    "# Features for two cabins\n",
    "x = np.array([[66, 5, 15, 2, 500], \n",
    "              [21, 3, 50, 1, 100]])\n",
    "c = np.array([3000, 200 , -50, 5000, 100])\n",
    "\n",
    "# Compute the predictions for both cabins\n",
    "print(x @ c)"
   ]
  },
  {
   "cell_type": "markdown",
   "metadata": {},
   "source": [
    "This approach efficiently handles multiple predictions at once, using NumPy to manage the array operations."
   ]
  },
  {
   "cell_type": "markdown",
   "metadata": {},
   "source": [
    "## Conclusion\n",
    "\n",
    "Linear regression serves as an essential tool in predictive modeling, offering both simplicity and powerful interpretability. By exploring this method, we can understand how various features affect predictions, making it ideal for applications like real estate pricing. While more complex models exist, linear regression remains a robust and effective technique, especially when the relationships between features and outputs are linear."
   ]
  }
 ],
 "metadata": {
  "kernelspec": {
   "display_name": "Python 3",
   "language": "python",
   "name": "python3"
  },
  "language_info": {
   "codemirror_mode": {
    "name": "ipython",
    "version": 3
   },
   "file_extension": ".py",
   "mimetype": "text/x-python",
   "name": "python",
   "nbconvert_exporter": "python",
   "pygments_lexer": "ipython3",
   "version": "3.12.0"
  }
 },
 "nbformat": 4,
 "nbformat_minor": 2
}
