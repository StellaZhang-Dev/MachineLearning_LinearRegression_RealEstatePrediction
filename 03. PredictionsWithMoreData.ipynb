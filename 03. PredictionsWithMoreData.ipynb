{
 "cells": [
  {
   "cell_type": "markdown",
   "metadata": {},
   "source": [
    "# Applying the Least Squares Method with Expanded Data\n",
    "\n",
    "In previous sections, we explored how linear regression could be applied to a fixed set of cabins using the least squares method. Now, we will extend this concept by working with additional data to better simulate a real-world scenario, where the data size and number of features can vary.\n",
    "\n",
    "Here, we'll walk through a practical example where we use the least squares method to fit a linear regression model. The dataset consists of five cabins, each described by features like size, sauna size, distance to water, number of indoor bathrooms, and proximity to neighbors. We aim to estimate the coefficients that best explain the relationship between these features and the price of each cabin."
   ]
  },
  {
   "cell_type": "markdown",
   "metadata": {},
   "source": [
    "## Dataset Overview\n",
    "\n",
    "We start with the following dataset of cabin characteristics and their corresponding prices:\n",
    "\n",
    "| Cabin   | Size (sqm) | Sauna Size (sqm) | Distance to Water (m) | Number of Indoor Bathrooms | Proximity to Neighbors (m) | Price (€) |\n",
    "|---------|------------|------------------|-----------------------|----------------------------|----------------------------|-----------|\n",
    "| Cabin 1 | 25         | 2                | 50                    | 1                          | 500                        | 127,900   |\n",
    "| Cabin 2 | 39         | 3                | 10                    | 1                          | 1000                       | 222,100   |\n",
    "| Cabin 3 | 13         | 2                | 13                    | 1                          | 1000                       | 143,750   |\n",
    "| Cabin 4 | 82         | 5                | 20                    | 2                          | 120                        | 268,000   |\n",
    "| Cabin 5 | 130        | 6                | 10                    | 2                          | 600                        | 460,700   |\n",
    "\n",
    "We use these features as the input \\( X \\), and the prices as the output \\( y \\). Our goal is to fit a linear regression model that captures the relationship between these features and the price of the cabins.\n"
   ]
  },
  {
   "cell_type": "markdown",
   "metadata": {},
   "source": [
    "## Applying the Least Squares Method\n",
    "\n",
    "The least squares method allows us to estimate the coefficients that minimize the sum of squared errors (SSE) between the predicted cabin prices and the actual prices.\n",
    "\n",
    "We can calculate the coefficient estimates using NumPy's `linalg.lstsq` function, which solves for the coefficient vector \\( c \\) by minimizing the SSE. The inputs are the feature matrix \\( X \\) and the price vector \\( y \\):"
   ]
  },
  {
   "cell_type": "code",
   "execution_count": 1,
   "metadata": {},
   "outputs": [
    {
     "name": "stdout",
     "output_type": "stream",
     "text": [
      "[3000.  200.  -50. 5000.  100.]\n",
      "[127900. 222100. 143750. 268000. 460700.]\n"
     ]
    }
   ],
   "source": [
    "import numpy as np\n",
    "\n",
    "# Input data: cabin features (X) and prices (y)\n",
    "x = np.array([\n",
    "             [25, 2, 50, 1, 500], \n",
    "             [39, 3, 10, 1, 1000], \n",
    "             [13, 2, 13, 1, 1000], \n",
    "             [82, 5, 20, 2, 120], \n",
    "             [130, 6, 10, 2, 600]\n",
    "            ])   \n",
    "y = np.array([127900, 222100, 143750, 268000, 460700])\n",
    "\n",
    "# Estimate the coefficients using the least squares method\n",
    "c = np.linalg.lstsq(x, y)[0]\n",
    "print(c)\n",
    "print(x @ c)"
   ]
  },
  {
   "cell_type": "markdown",
   "metadata": {},
   "source": [
    "The output consists of the estimated coefficients for each feature, as well as the predicted prices for the cabins in the dataset."
   ]
  },
  {
   "cell_type": "markdown",
   "metadata": {},
   "source": [
    "## Interpreting the Results\n",
    "\n",
    "- The **first coefficient** (approximately 3000) corresponds to the cabin size in square meters. This means that for every additional square meter, the cabin price increases by €3000.\n",
    "\n",
    "- The **third coefficient** (approximately −50) shows that for each meter the cabin is farther from the water, the price decreases by €50. Conversely, moving closer to water increases the price by the same amount per meter.\n",
    "\n",
    "Interestingly, the predicted prices for the five cabins match the actual prices exactly. This happens because the number of observations (five cabins) is equal to the number of features used in the regression model. In such cases, the model can perfectly fit the data."
   ]
  },
  {
   "cell_type": "markdown",
   "metadata": {},
   "source": [
    "## Adding More Data to the Model\n",
    "\n",
    "Now, let's see what happens when we add more cabins to the dataset. By introducing additional data points, we expect the model to adjust, as it attempts to find a better fit for the larger dataset.\n",
    "\n",
    "We'll simulate this by adding one more cabin to the data:"
   ]
  },
  {
   "cell_type": "code",
   "execution_count": 2,
   "metadata": {},
   "outputs": [
    {
     "name": "stdout",
     "output_type": "stream",
     "text": [
      "[2989.6  800.6  -44.8 3890.8   99.8]\n",
      "[127907.6 222269.8 143604.5 268017.6 460686.6 406959.9]\n"
     ]
    }
   ],
   "source": [
    "import numpy as np\n",
    "from io import StringIO\n",
    "\n",
    "# Simulated CSV input with six cabins\n",
    "input_string = '''\n",
    "25 2 50 1 500 127900\n",
    "39 3 10 1 1000 222100\n",
    "13 2 13 1 1000 143750\n",
    "82 5 20 2 120 268000\n",
    "130 6 10 2 600 460700\n",
    "115 6 10 1 550 407000\n",
    "'''\n",
    "\n",
    "np.set_printoptions(precision=1)    # Set output precision for easier reading\n",
    " \n",
    "def fit_model(input_file):\n",
    "\n",
    "    # Read the CSV-like input\n",
    "    data = np.genfromtxt(input_file, skip_header=0)\n",
    "    \n",
    "    # Split data into features (X) and prices (y)\n",
    "    x = np.array([\n",
    "        [25, 2, 50, 1, 500],\n",
    "        [39, 3, 10, 1, 1000],\n",
    "        [13, 2, 13, 1, 1000],\n",
    "        [82, 5, 20, 2, 120],\n",
    "        [130, 6, 10, 2, 600],\n",
    "        [115, 6, 10, 1, 550]\n",
    "    ])\n",
    "    \n",
    "    y = np.array([127900, 222100, 143750, 268000, 460700, 407000])\n",
    "\n",
    "    # Read the data in and fit it. the values below are placeholder values\n",
    "    c = np.linalg.lstsq(x, y, rcond=None)[0]\n",
    " \n",
    "    print(c)\n",
    "    print(x @ c)\n",
    "\n",
    "# Simulate reading a file\n",
    "input_file = StringIO(input_string)\n",
    "fit_model(input_file)\n"
   ]
  },
  {
   "cell_type": "markdown",
   "metadata": {},
   "source": [
    "## Observing the Changes in the Model\n",
    "\n",
    "By adding the sixth cabin to the dataset, we observe changes in both the estimated coefficients and the predicted prices. For instance, the effect of cabin size on price changed from approximately €3000/m² to €2989.6/m². Similarly, the predicted prices for the original five cabins also changed slightly.\n",
    "\n",
    "This is a result of incorporating more data, which alters the linear relationship between the features and the price. The model must now account for more variation, leading to slight adjustments in the coefficient estimates and predicted values."
   ]
  },
  {
   "cell_type": "markdown",
   "metadata": {},
   "source": [
    "## Conclusion\n",
    "\n",
    "This example demonstrates the power of the least squares method in fitting linear regression models. As the dataset expands, the model adapts to account for additional variation in the data, leading to updated predictions and coefficient estimates. This showcases how linear regression provides a flexible framework for predictive modeling, even as the number of data points or features changes.\n",
    "\n",
    "Through this exercise, we have seen that:\n",
    "\n",
    "- The least squares method can perfectly fit a model when the number of features matches the number of observations.\n",
    "\n",
    "- When more data is added, the model adjusts, leading to more nuanced predictions that account for the new information.\n",
    "\n",
    "This flexibility makes linear regression a fundamental tool in machine learning and data analysis, especially for tasks where interpretability and simplicity are essential."
   ]
  }
 ],
 "metadata": {
  "kernelspec": {
   "display_name": "Python 3",
   "language": "python",
   "name": "python3"
  },
  "language_info": {
   "codemirror_mode": {
    "name": "ipython",
    "version": 3
   },
   "file_extension": ".py",
   "mimetype": "text/x-python",
   "name": "python",
   "nbconvert_exporter": "python",
   "pygments_lexer": "ipython3",
   "version": "3.12.0"
  }
 },
 "nbformat": 4,
 "nbformat_minor": 2
}
